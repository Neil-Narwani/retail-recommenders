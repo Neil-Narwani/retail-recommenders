{
 "cells": [
  {
   "cell_type": "code",
   "execution_count": 1,
   "metadata": {},
   "outputs": [],
   "source": [
    "import os\n",
    "import pprint\n",
    "import tempfile\n",
    "import datetime\n",
    "from typing import Dict, Text\n",
    "\n",
    "import numpy as np\n",
    "import tensorflow as tf\n",
    "import tensorflow_datasets as tfds\n",
    "import tensorflow_recommenders as tfrs\n",
    "import requests\n",
    "import itertools"
   ]
  },
  {
   "cell_type": "code",
   "execution_count": 2,
   "metadata": {},
   "outputs": [],
   "source": [
    "validation_filename = \"../data/samples/validation_transactions.tfrecord\"\n",
    "validation = tf.data.TFRecordDataset(validation_filename)\n",
    "\n",
    "feature_description = {\n",
    "    'context_item_id': tf.io.FixedLenFeature([10], tf.int64, default_value=np.repeat(0, 10)),    \n",
    "    'context_item_quantity': tf.io.FixedLenFeature([10], tf.float32, default_value=np.repeat(0, 10)),\n",
    "    'context_item_price': tf.io.FixedLenFeature([10], tf.float32, default_value=np.repeat(0, 10)),    \n",
    "    'context_item_department_id': tf.io.FixedLenFeature([10], tf.int64, default_value=np.repeat(0, 10)),\n",
    "    'label_item_id': tf.io.FixedLenFeature([1], tf.int64, default_value=0),\n",
    "}\n",
    "\n",
    "def _parse_function(example_proto):\n",
    "  return tf.io.parse_single_example(example_proto, feature_description)\n",
    "def _map_function(x):\n",
    "  return {\n",
    "    \"context_item_id\": tf.strings.as_string(x[\"context_item_id\"]),\n",
    "    \"context_item_price\": float(x[\"context_item_price\"]),\n",
    "    \"context_item_department_id\": int(x[\"context_item_department_id\"]),\n",
    "    \"label_item_id\": tf.strings.as_string(x[\"label_item_id\"])}\n",
    "\n",
    "test_ds = validation.map(_parse_function).map(_map_function)"
   ]
  },
  {
   "cell_type": "code",
   "execution_count": 3,
   "metadata": {},
   "outputs": [],
   "source": [
    "path = '../data/seq_model_2features'\n",
    "model = tf.saved_model.load(path)"
   ]
  },
  {
   "cell_type": "code",
   "execution_count": 4,
   "metadata": {},
   "outputs": [
    {
     "name": "stdout",
     "output_type": "stream",
     "text": [
      "tf.Tensor(\n",
      "[[13.113109 12.863562 12.779797 12.628791 12.378885 12.347994 12.319192\n",
      "  12.247762 12.201349 12.161086 12.156644 12.153313]], shape=(1, 12), dtype=float32)\n",
      "tf.Tensor(\n",
      "[[[b'82196']\n",
      "  [b'119292']\n",
      "  [b'82034']\n",
      "  [b'143007']\n",
      "  [b'108984']\n",
      "  [b'135453']\n",
      "  [b'23234']\n",
      "  [b'157353']\n",
      "  [b'33041']\n",
      "  [b'15595']\n",
      "  [b'84455']\n",
      "  [b'30467']]], shape=(1, 12, 1), dtype=string)\n"
     ]
    }
   ],
   "source": [
    "feature0 = [\"81747\", \"22107\", \"133321\", \"74199\", \"13247\", \"23321\", \"15511\", \"23321\", \"11855\", \"99657\"]\n",
    "feature1 = [753, 744, 744, 749, 692, 739, 739, 739, 673, 739]\n",
    "\n",
    "features = { \n",
    "  'context_item_id' : tf.constant(feature0,shape=(1,10,1)), \n",
    "  'context_item_department_id' : tf.constant(feature1, shape=(1,10,1))\n",
    "}\n",
    "scores, predicted = model(features, training=False)\n",
    "print(scores)\n",
    "print(predicted)"
   ]
  },
  {
   "cell_type": "code",
   "execution_count": 5,
   "metadata": {},
   "outputs": [
    {
     "name": "stdout",
     "output_type": "stream",
     "text": [
      "([[9.94413185 9.70933723 9.62080193 9.59712219 9.26239 9.09691334 9.09018421 9.06620884 9.00914764 8.98163414 8.89393806 8.86738873]], [[[\"132953\"]\n",
      "  [\"59696\"]\n",
      "  [\"128816\"]\n",
      "  [\"153471\"]\n",
      "  [\"80624\"]\n",
      "  [\"132941\"]\n",
      "  [\"119716\"]\n",
      "  [\"154973\"]\n",
      "  [\"154686\"]\n",
      "  [\"78958\"]\n",
      "  [\"107924\"]\n",
      "  [\"132955\"]]])\n",
      "Ground Truth:\n",
      "[b'36022']\n",
      "------\n",
      "([[10.5630436 9.43732548 8.9095211 8.88101673 8.76085281 8.74254608 8.59654808 8.42867374 8.38398 8.16695 8.16144943 8.11431694]], [[[\"24731\"]\n",
      "  [\"23752\"]\n",
      "  [\"23754\"]\n",
      "  [\"62264\"]\n",
      "  [\"112473\"]\n",
      "  [\"79003\"]\n",
      "  [\"133970\"]\n",
      "  [\"133968\"]\n",
      "  [\"122984\"]\n",
      "  [\"150315\"]\n",
      "  [\"73294\"]\n",
      "  [\"9366\"]]])\n",
      "Ground Truth:\n",
      "[b'24731']\n",
      "------\n",
      "([[11.6351089 11.5016623 10.6225872 10.3384609 10.2645159 9.92010498 9.88556385 9.7572 9.72596741 9.70106506 9.48393631 9.46371651]], [[[\"25569\"]\n",
      "  [\"25567\"]\n",
      "  [\"143333\"]\n",
      "  [\"158934\"]\n",
      "  [\"157621\"]\n",
      "  [\"43768\"]\n",
      "  [\"135326\"]\n",
      "  [\"122571\"]\n",
      "  [\"123683\"]\n",
      "  [\"15671\"]\n",
      "  [\"153987\"]\n",
      "  [\"113983\"]]])\n",
      "Ground Truth:\n",
      "[b'50130']\n",
      "------\n",
      "([[8.8512125 8.36244202 8.32926 8.29277134 8.18002224 8.038867 7.90039444 7.89602041 7.89191628 7.83675623 7.70858955 7.63259792]], [[[\"85496\"]\n",
      "  [\"28648\"]\n",
      "  [\"116374\"]\n",
      "  [\"127176\"]\n",
      "  [\"142036\"]\n",
      "  [\"130446\"]\n",
      "  [\"34677\"]\n",
      "  [\"69802\"]\n",
      "  [\"15702\"]\n",
      "  [\"104686\"]\n",
      "  [\"30959\"]\n",
      "  [\"99957\"]]])\n",
      "Ground Truth:\n",
      "[b'88698']\n",
      "------\n",
      "([[8.17503166 8.04424381 7.79882383 7.62106466 7.57670403 7.44752407 7.27345037 7.02961159 6.9883194 6.98625088 6.94524527 6.71909618]], [[[\"140878\"]\n",
      "  [\"137373\"]\n",
      "  [\"22804\"]\n",
      "  [\"84692\"]\n",
      "  [\"23505\"]\n",
      "  [\"152503\"]\n",
      "  [\"23508\"]\n",
      "  [\"67644\"]\n",
      "  [\"49226\"]\n",
      "  [\"64336\"]\n",
      "  [\"113974\"]\n",
      "  [\"96681\"]]])\n",
      "Ground Truth:\n",
      "[b'128329']\n",
      "------\n"
     ]
    }
   ],
   "source": [
    "shuffled = test_ds.shuffle(42).take(5)\n",
    "\n",
    "for x in shuffled:\n",
    "    foo = { \n",
    "        'context_item_id': tf.reshape(x['context_item_id'], shape=(1,10,1), name='context_item_id'),\n",
    "        'context_item_department_id' : tf.reshape(x['context_item_department_id'], shape=(1,10,1), name='context_item_department_id')\n",
    "    }\n",
    "    tf.print(model(foo, training=False), summarize=-1)\n",
    "    print('Ground Truth:')\n",
    "    print(x['label_item_id'].numpy())\n",
    "    print('------')    "
   ]
  }
 ],
 "metadata": {
  "kernelspec": {
   "display_name": "Python 3.9.12 ('tf')",
   "language": "python",
   "name": "python3"
  },
  "language_info": {
   "codemirror_mode": {
    "name": "ipython",
    "version": 3
   },
   "file_extension": ".py",
   "mimetype": "text/x-python",
   "name": "python",
   "nbconvert_exporter": "python",
   "pygments_lexer": "ipython3",
   "version": "3.9.12"
  },
  "orig_nbformat": 4,
  "vscode": {
   "interpreter": {
    "hash": "d7f156ea84fdc221bcc828ba074462c25de1a00a239b7857dab945319d42b0e1"
   }
  }
 },
 "nbformat": 4,
 "nbformat_minor": 2
}
