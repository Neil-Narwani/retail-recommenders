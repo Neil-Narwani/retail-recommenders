{
 "cells": [
  {
   "cell_type": "code",
   "execution_count": 2,
   "metadata": {},
   "outputs": [],
   "source": [
    "import os\n",
    "import pprint\n",
    "import tempfile\n",
    "import datetime\n",
    "from typing import Dict, Text\n",
    "\n",
    "import numpy as np\n",
    "import tensorflow as tf\n",
    "import tensorflow_datasets as tfds\n",
    "import tensorflow_recommenders as tfrs\n",
    "import requests\n",
    "import itertools"
   ]
  },
  {
   "cell_type": "code",
   "execution_count": 12,
   "metadata": {},
   "outputs": [],
   "source": [
    "validation_filename = \"../data/samples/validation_transactions.tfrecord\"\n",
    "validation = tf.data.TFRecordDataset(validation_filename)\n",
    "\n",
    "feature_description = {\n",
    "    'context_item_id': tf.io.FixedLenFeature([10], tf.int64, default_value=np.repeat(0, 10)),    \n",
    "    'context_item_quantity': tf.io.FixedLenFeature([10], tf.float32, default_value=np.repeat(0, 10)),\n",
    "    'context_item_price': tf.io.FixedLenFeature([10], tf.float32, default_value=np.repeat(0, 10)),    \n",
    "    'context_item_department_id': tf.io.FixedLenFeature([10], tf.int64, default_value=np.repeat(0, 10)),\n",
    "    'context_brand_code': tf.io.FixedLenFeature([10], tf.string, default_value=['none'] * 10),\n",
    "    'label_item_id': tf.io.FixedLenFeature([1], tf.int64, default_value=0),\n",
    "}\n",
    "\n",
    "def _parse_function(example_proto):\n",
    "  return tf.io.parse_single_example(example_proto, feature_description)\n",
    "def _map_function(x):\n",
    "  return {\n",
    "    \"context_item_id\": tf.strings.as_string(x[\"context_item_id\"]),\n",
    "    \"context_item_price\": float(x[\"context_item_price\"]),\n",
    "    \"context_item_department_id\": x[\"context_item_department_id\"],\n",
    "    \"context_item_brand_code\" : x[\"context_brand_code\"],\n",
    "    \"label_item_id\": tf.strings.as_string(x[\"label_item_id\"])}\n",
    "\n",
    "test_ds = validation.map(_parse_function).map(_map_function).shuffle(42)"
   ]
  },
  {
   "cell_type": "code",
   "execution_count": 4,
   "metadata": {},
   "outputs": [],
   "source": [
    "path = '../data/rich_features_2'\n",
    "model = tf.saved_model.load(path)"
   ]
  },
  {
   "cell_type": "code",
   "execution_count": 16,
   "metadata": {},
   "outputs": [
    {
     "name": "stdout",
     "output_type": "stream",
     "text": [
      "{'context_item_brand_code': [\"2288V\" \"1178V\" \"1178V\" \"1178V\" \"1178V\" \"2288V\" \"2288V\" \"2288V\" \"2755V\" \"1178V\"],\n",
      " 'context_item_department_id': [736 735 735 735 735 736 736 736 753 735],\n",
      " 'context_item_id': [\"67829\" \"9415\" \"80951\" \"80951\" \"80951\" \"67829\" \"108318\" \"108318\" \"56667\" \"80951\"],\n",
      " 'context_item_price': [3.49 4.59 2.19 2.19 2.19 3.49 9.99 9.99 11.99 2.19],\n",
      " 'label_item_id': [\"80951\"]}\n",
      "tf.Tensor(\n",
      "[[13.095102 12.707839 12.293754 11.799453 11.689468 11.430653 11.405487\n",
      "  11.249676 11.185574 10.955563 10.873921 10.853102]], shape=(1, 12), dtype=float32)\n",
      "tf.Tensor(\n",
      "[[[b'94219']\n",
      "  [b'80951']\n",
      "  [b'108318']\n",
      "  [b'150318']\n",
      "  [b'25107']\n",
      "  [b'80950']\n",
      "  [b'81852']\n",
      "  [b'80958']\n",
      "  [b'153138']\n",
      "  [b'9415']\n",
      "  [b'83828']\n",
      "  [b'81005']]], shape=(1, 12, 1), dtype=string)\n"
     ]
    }
   ],
   "source": [
    "features = test_ds.shuffle(42).take(1).get_single_element()\n",
    "tf.print(features, summarize = -1)\n",
    "features_dataset = { \n",
    "  'context_item_id' : tf.constant(features['context_item_id'],shape=(1,10,1), name='context_item_id', dtype=tf.string), \n",
    "  'context_item_department_id' : tf.constant(features['context_item_department_id'], shape=(1,10,1), name='context_item_department_id', dtype=tf.int64),\n",
    "  'context_item_brand_code' : tf.constant(features['context_item_brand_code'], shape=(1,10,1), name='context_item_brand_code', dtype=tf.string)\n",
    "}\n",
    "scores, predicted = model(features_dataset, training=False)\n",
    "print(scores)\n",
    "print(predicted)"
   ]
  },
  {
   "cell_type": "code",
   "execution_count": null,
   "metadata": {},
   "outputs": [
    {
     "name": "stdout",
     "output_type": "stream",
     "text": [
      "[b'117206', b'131481', b'122714', b'130596', b'54697', b'54700', b'65110', b'130616', b'32453', b'54660']\n",
      "Ground Truth:[b'74158']\n",
      "------\n",
      "[b'60588', b'66135', b'138145', b'26434', b'62969', b'138143', b'141882', b'74293', b'125712', b'21765']\n",
      "Ground Truth:[b'138143']\n",
      "------\n",
      "[b'51089', b'105637', b'113558', b'36329', b'51090', b'151992', b'132293', b'36326', b'29737', b'51092']\n",
      "Ground Truth:[b'128701']\n",
      "------\n",
      "[b'24731', b'23752', b'73294', b'146130', b'59532', b'23754', b'84367', b'133970', b'63388', b'137629']\n",
      "Ground Truth:[b'24731']\n",
      "------\n",
      "[b'60463', b'100954', b'142288', b'112477', b'112488', b'105297', b'133189', b'132624', b'138976', b'13152']\n",
      "Ground Truth:[b'100952']\n",
      "------\n"
     ]
    }
   ],
   "source": [
    "shuffled = test_ds.shuffle(42).take(5)\n",
    "\n",
    "for x in shuffled:\n",
    "    foo = { \n",
    "        'context_item_id': tf.reshape(x['context_item_id'], shape=feature_shape, name='context_item_id'),\n",
    "        'context_item_department_id' : tf.reshape(x['context_item_department_id'], shape=feature_shape, name='context_item_department_id'),\n",
    "        'context_item_price' : tf.reshape(x['context_item_price'], shape=feature_shape, name='context_item_price')\n",
    "    }\n",
    "    scores, predictions = model(foo, training=False)\n",
    "    foo = list(itertools.chain.from_iterable(predictions[0].numpy()))\n",
    "    print(foo)\n",
    "    print('Ground Truth:', end='')\n",
    "    print(x['label_item_id'].numpy())\n",
    "    print('------')    "
   ]
  }
 ],
 "metadata": {
  "kernelspec": {
   "display_name": "Python 3.9.12 ('tf')",
   "language": "python",
   "name": "python3"
  },
  "language_info": {
   "codemirror_mode": {
    "name": "ipython",
    "version": 3
   },
   "file_extension": ".py",
   "mimetype": "text/x-python",
   "name": "python",
   "nbconvert_exporter": "python",
   "pygments_lexer": "ipython3",
   "version": "3.9.12"
  },
  "orig_nbformat": 4,
  "vscode": {
   "interpreter": {
    "hash": "d7f156ea84fdc221bcc828ba074462c25de1a00a239b7857dab945319d42b0e1"
   }
  }
 },
 "nbformat": 4,
 "nbformat_minor": 2
}
