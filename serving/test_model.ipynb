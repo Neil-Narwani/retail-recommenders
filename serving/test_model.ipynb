{
 "cells": [
  {
   "cell_type": "code",
   "execution_count": 37,
   "metadata": {},
   "outputs": [],
   "source": [
    "import tensorflow as tf\n",
    "import pandas as pd\n",
    "import numpy as np"
   ]
  },
  {
   "cell_type": "code",
   "execution_count": 4,
   "metadata": {},
   "outputs": [],
   "source": [
    "items_df = pd.read_csv('../data/csv/web_items.csv')\n",
    "departments_df = pd.read_csv('../data/csv/web_departments.csv')\n",
    "recommender_model = tf.saved_model.load('../data/deep_retrieval_model')"
   ]
  },
  {
   "cell_type": "code",
   "execution_count": 18,
   "metadata": {},
   "outputs": [],
   "source": [
    "feature0 = ['49227','87821','87818','151817','149370','149665','138221','142048','0','0']\n",
    "feature1 = [673,670,670,673,670,749,749,692,0,0]\n",
    "feature2 = [13.25,5.99,5.99,150,124.95,163.5,89,29.99,0,0]\n",
    "\n",
    "features_dataset = { \n",
    "  'context_item_id' : tf.constant(feature0,shape=(1,10,1)), \n",
    "  'context_item_price' : tf.constant(feature2,shape=(1,10,1)),\n",
    "  'context_item_department_id' : tf.constant(feature1, shape=(1,10,1))\n",
    "}\n",
    "\n",
    "_, predicted = recommender_model(features_dataset)\n"
   ]
  },
  {
   "cell_type": "code",
   "execution_count": 54,
   "metadata": {},
   "outputs": [
    {
     "name": "stdout",
     "output_type": "stream",
     "text": [
      "15729,142048,146383,48808,82214,142043,94732,44455,73903,138894,\n"
     ]
    }
   ],
   "source": [
    "for i in predicted.numpy():\n",
    "    for j in i:\n",
    "        for k in j:\n",
    "            print(tf.compat.as_str(k)+',', end='')\n",
    "print('')"
   ]
  }
 ],
 "metadata": {
  "kernelspec": {
   "display_name": "Python 3.9.12 ('tf')",
   "language": "python",
   "name": "python3"
  },
  "language_info": {
   "codemirror_mode": {
    "name": "ipython",
    "version": 3
   },
   "file_extension": ".py",
   "mimetype": "text/x-python",
   "name": "python",
   "nbconvert_exporter": "python",
   "pygments_lexer": "ipython3",
   "version": "3.9.12"
  },
  "orig_nbformat": 4,
  "vscode": {
   "interpreter": {
    "hash": "d7f156ea84fdc221bcc828ba074462c25de1a00a239b7857dab945319d42b0e1"
   }
  }
 },
 "nbformat": 4,
 "nbformat_minor": 2
}
