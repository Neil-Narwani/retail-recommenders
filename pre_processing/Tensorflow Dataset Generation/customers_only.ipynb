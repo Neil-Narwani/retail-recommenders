{
 "cells": [
  {
   "cell_type": "code",
   "execution_count": 1,
   "metadata": {},
   "outputs": [],
   "source": [
    "from ast import Mult\n",
    "import collections\n",
    "from enum import unique\n",
    "from re import T\n",
    "import pandas as pd\n",
    "import tensorflow as tf\n",
    "from sqlalchemy import create_engine\n",
    "import argparse\n",
    "from datetime import datetime\n",
    "import random\n",
    "import os\n",
    "from fixstring import fix_string"
   ]
  },
  {
   "cell_type": "code",
   "execution_count": 7,
   "metadata": {},
   "outputs": [],
   "source": [
    "def write_tfrecords(tf_examples, filename):\n",
    "  \"\"\"Writes tf examples to tfrecord file, and returns the count.\"\"\"\n",
    "  with tf.io.TFRecordWriter(filename) as file_writer:\n",
    "    length = len(tf_examples)\n",
    "    progress_bar = tf.keras.utils.Progbar(length)\n",
    "    for example in tf_examples:\n",
    "      file_writer.write(example.SerializeToString())\n",
    "      progress_bar.add(1)\n",
    "    return length"
   ]
  },
  {
   "cell_type": "code",
   "execution_count": 14,
   "metadata": {},
   "outputs": [],
   "source": [
    "def read__customer_data(sqlconn): \n",
    "    print('query non-duplicate customers...')\n",
    "    query = f\"\"\"\n",
    "      select \n",
    "        ID, Zip, TotalSales, TotalSavings, TotalVisits\n",
    "      from\n",
    "        Customer\n",
    "      where\n",
    "        ID not in (select ID from entity_map where cluster_score > 0.97);\n",
    "      \"\"\"\n",
    "    customers_df = pd.read_sql(query, sqlconn)\n",
    "    print('query duplicate entries')\n",
    "    query = f\"\"\"\n",
    "      select\n",
    "        ID, Zip, TotalSales, TotalSavings, TotalVisits\n",
    "      from\n",
    "        Customer\n",
    "      where\n",
    "        ID in (select distinct canon_id from entity_map);\"\"\"\n",
    "\n",
    "    customers_df = pd.concat([customers_df, pd.read_sql(query, sqlconn)])\n",
    "    return customers_df\n",
    "\n",
    "def generate_customer_examples(customers_df):\n",
    "    examples = []\n",
    "    print('Generate Customer Examples')\n",
    "    progress_bar = tf.keras.utils.Progbar(len(customers_df))\n",
    "    for _, customer in customers_df.iterrows():\n",
    "        feature = {\n",
    "            \"user_id\":\n",
    "                tf.train.Feature(\n",
    "                    int64_list=tf.train.Int64List(value=[int(customer.ID)])),\n",
    "           \"zip_code\":\n",
    "                tf.train.Feature(\n",
    "                    bytes_list=tf.train.BytesList(value=[tf.compat.as_bytes(str(customer.Zip))])),\n",
    "            \"total_visits\":\n",
    "                tf.train.Feature(\n",
    "                    int64_list=tf.train.Int64List(value=[int(customer.TotalVisits)])),\n",
    "            \"total_sales\":\n",
    "                tf.train.Feature(\n",
    "                    float_list=tf.train.FloatList(value=[customer.TotalSales])),\n",
    "            \"total_savings\":\n",
    "                tf.train.Feature(\n",
    "                    float_list=tf.train.FloatList(value=[customer.TotalSavings]))\n",
    "        }\n",
    "        tf_example = tf.train.Example(features=tf.train.Features(feature=feature))\n",
    "        examples.append(tf_example)\n",
    "        progress_bar.add(1)\n",
    "    return examples"
   ]
  },
  {
   "cell_type": "code",
   "execution_count": 15,
   "metadata": {},
   "outputs": [
    {
     "name": "stdout",
     "output_type": "stream",
     "text": [
      "Connect to Database...\n",
      "Generating Datasets...\n",
      "query non-duplicate customers...\n",
      "query duplicate entries\n",
      "Generate Customer Examples\n",
      "199034/199034 [==============================] - 25s 124us/step\n",
      "199034/199034 [==============================] - 495s 2ms/step\n"
     ]
    },
    {
     "data": {
      "text/plain": [
       "199034"
      ]
     },
     "execution_count": 15,
     "metadata": {},
     "output_type": "execute_result"
    }
   ],
   "source": [
    "customers_filename = \"../../data/samples/customers.tfrecord\"\n",
    "\n",
    "print('Connect to Database...')\n",
    "connect_str = 'mysql+mysqlconnector://' + 'sa' + ':' + 'rmssa512' + '@' + 'anand-dev' +'/' + 'RetailDB'\n",
    "alchemy_engine = create_engine(connect_str)\n",
    "sqlconn = alchemy_engine.connect()\n",
    "print('Generating Datasets...')\n",
    "customers_df = read__customer_data(sqlconn)\n",
    "examples = generate_customer_examples(customers_df)\n",
    "write_tfrecords(examples, customers_filename)"
   ]
  }
 ],
 "metadata": {
  "kernelspec": {
   "display_name": "Python 3.9.12 ('tf')",
   "language": "python",
   "name": "python3"
  },
  "language_info": {
   "codemirror_mode": {
    "name": "ipython",
    "version": 3
   },
   "file_extension": ".py",
   "mimetype": "text/x-python",
   "name": "python",
   "nbconvert_exporter": "python",
   "pygments_lexer": "ipython3",
   "version": "3.9.12"
  },
  "orig_nbformat": 4,
  "vscode": {
   "interpreter": {
    "hash": "d7f156ea84fdc221bcc828ba074462c25de1a00a239b7857dab945319d42b0e1"
   }
  }
 },
 "nbformat": 4,
 "nbformat_minor": 2
}
